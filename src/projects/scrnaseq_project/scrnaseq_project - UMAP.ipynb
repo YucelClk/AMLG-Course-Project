{
 "cells": [
  {
   "cell_type": "markdown",
   "metadata": {},
   "source": [
    "# **Single-Cell RNA-Seq Analysis Project**"
   ]
  },
  {
   "cell_type": "markdown",
   "metadata": {},
   "source": [
    "In this project, you will work with the `norman` dataset from the `perturbation_data_analysis` exercise:"
   ]
  },
  {
   "cell_type": "code",
   "execution_count": 17,
   "metadata": {},
   "outputs": [
    {
     "name": "stdout",
     "output_type": "stream",
     "text": [
      "Requirement already satisfied: umap-learn in c:\\users\\yucel\\documents\\__ws 24-25\\amlg\\amlg\\venv\\lib\\site-packages (0.5.7)\n",
      "Requirement already satisfied: numpy>=1.17 in c:\\users\\yucel\\documents\\__ws 24-25\\amlg\\amlg\\venv\\lib\\site-packages (from umap-learn) (1.26.4)\n",
      "Requirement already satisfied: scipy>=1.3.1 in c:\\users\\yucel\\documents\\__ws 24-25\\amlg\\amlg\\venv\\lib\\site-packages (from umap-learn) (1.14.1)\n",
      "Requirement already satisfied: scikit-learn>=0.22 in c:\\users\\yucel\\documents\\__ws 24-25\\amlg\\amlg\\venv\\lib\\site-packages (from umap-learn) (1.5.2)\n",
      "Requirement already satisfied: numba>=0.51.2 in c:\\users\\yucel\\documents\\__ws 24-25\\amlg\\amlg\\venv\\lib\\site-packages (from umap-learn) (0.60.0)\n",
      "Requirement already satisfied: pynndescent>=0.5 in c:\\users\\yucel\\documents\\__ws 24-25\\amlg\\amlg\\venv\\lib\\site-packages (from umap-learn) (0.5.13)\n",
      "Requirement already satisfied: tqdm in c:\\users\\yucel\\documents\\__ws 24-25\\amlg\\amlg\\venv\\lib\\site-packages (from umap-learn) (4.67.0)\n",
      "Requirement already satisfied: llvmlite<0.44,>=0.43.0dev0 in c:\\users\\yucel\\documents\\__ws 24-25\\amlg\\amlg\\venv\\lib\\site-packages (from numba>=0.51.2->umap-learn) (0.43.0)\n",
      "Requirement already satisfied: joblib>=0.11 in c:\\users\\yucel\\documents\\__ws 24-25\\amlg\\amlg\\venv\\lib\\site-packages (from pynndescent>=0.5->umap-learn) (1.4.2)\n",
      "Requirement already satisfied: threadpoolctl>=3.1.0 in c:\\users\\yucel\\documents\\__ws 24-25\\amlg\\amlg\\venv\\lib\\site-packages (from scikit-learn>=0.22->umap-learn) (3.5.0)\n",
      "Requirement already satisfied: colorama in c:\\users\\yucel\\documents\\__ws 24-25\\amlg\\amlg\\venv\\lib\\site-packages (from tqdm->umap-learn) (0.4.6)\n"
     ]
    }
   ],
   "source": [
    "!pip install umap-learn"
   ]
  },
  {
   "cell_type": "code",
   "execution_count": 18,
   "metadata": {},
   "outputs": [],
   "source": [
    "# from models import Autoencoder\n",
    "import umap\n",
    "import matplotlib.pyplot as plt\n",
    "import seaborn as sns\n",
    "%matplotlib inline"
   ]
  },
  {
   "cell_type": "code",
   "execution_count": 19,
   "metadata": {},
   "outputs": [
    {
     "name": "stdout",
     "output_type": "stream",
     "text": [
      "Dataset directory already exists: data\\norman\n",
      "Loading dataset: norman\n",
      "PertData object\n",
      "    name: norman\n",
      "    path: data\\norman\n",
      "    adata: AnnData object with n_obs x n_vars = 91205 x 5045\n"
     ]
    }
   ],
   "source": [
    "import os\n",
    "import sys\n",
    "\n",
    "# Append the root of the Git repository to the path.\n",
    "git_root = os.popen(cmd=\"git rev-parse --show-toplevel\").read().strip()\n",
    "sys.path.append(git_root)\n",
    "\n",
    "from src.exercises.perturbation_data_analysis import pertdata as pt  # noqa: E402\n",
    "\n",
    "norman = pt.PertData.from_repo(name=\"norman\", save_dir=\"data\")\n",
    "\n",
    "print(norman)"
   ]
  },
  {
   "cell_type": "markdown",
   "metadata": {},
   "source": [
    "**Exploratory Data Analysis and Visualization**"
   ]
  },
  {
   "cell_type": "code",
   "execution_count": 20,
   "metadata": {},
   "outputs": [
    {
     "name": "stdout",
     "output_type": "stream",
     "text": [
      "PertData object\n",
      "    name: norman\n",
      "    path: data\\norman\n",
      "    adata: AnnData object with n_obs x n_vars = 91205 x 5045\n",
      "AnnData object with n_obs × n_vars = 91205 × 5045\n",
      "    obs: 'condition', 'cell_type', 'dose_val', 'control', 'condition_name', 'condition_fixed'\n",
      "    var: 'gene_name'\n",
      "    uns: 'non_dropout_gene_idx', 'non_zeros_gene_idx', 'rank_genes_groups_cov_all', 'top_non_dropout_de_20', 'top_non_zero_de_20'\n",
      "    layers: 'counts'\n",
      "X.shape=(91205, 5045)\n",
      "y_pert.shape=(91205,)\n",
      "y_ctrl.shape=(91205,)\n",
      "gene_names.shape=(5045,)\n"
     ]
    }
   ],
   "source": [
    "print(norman)\n",
    "print(norman.adata)\n",
    "\n",
    "X = norman.adata.X\n",
    "y_pert = norman.adata.obs[\"condition\"]\n",
    "y_ctrl = norman.adata.obs[\"control\"]\n",
    "gene_names = norman.adata.var[\"gene_name\"]\n",
    "\n",
    "print(f\"X.shape={X.shape}\")  # type: ignore\n",
    "print(f\"y_pert.shape={y_pert.shape}\")\n",
    "print(f\"y_ctrl.shape={y_ctrl.shape}\")\n",
    "print(f\"gene_names.shape={gene_names.shape}\")"
   ]
  },
  {
   "cell_type": "code",
   "execution_count": 21,
   "metadata": {},
   "outputs": [
    {
     "name": "stdout",
     "output_type": "stream",
     "text": [
      "Unique perturbations (unfixed): 284\n",
      "Unique perturbations (fixed): 237\n"
     ]
    }
   ],
   "source": [
    "print(f\"Unique perturbations (unfixed): {len(set(norman.adata.obs['condition']))}\")\n",
    "print(f\"Unique perturbations (fixed): {len(set(norman.adata.obs['condition_fixed']))}\")"
   ]
  },
  {
   "cell_type": "markdown",
   "metadata": {},
   "source": [
    "**Filtering out double gene perturbations**"
   ]
  },
  {
   "cell_type": "code",
   "execution_count": 22,
   "metadata": {},
   "outputs": [],
   "source": [
    "filter_mask = ~norman.adata.obs[\"condition_fixed\"].str.contains(r\"\\+\")\n",
    "indexes_to_keep = filter_mask[filter_mask].index\n",
    "adata_single = norman.adata[indexes_to_keep].copy()  # type: ignore"
   ]
  },
  {
   "cell_type": "code",
   "execution_count": 23,
   "metadata": {},
   "outputs": [
    {
     "name": "stdout",
     "output_type": "stream",
     "text": [
      "cell_barcode\n",
      "AAACCTGAGGCATGTG-1     True\n",
      "AAACCTGAGGCCCTTG-1    False\n",
      "AAACCTGCACGAAGCA-1     True\n",
      "AAACCTGCAGACGTAG-1    False\n",
      "AAACCTGCAGCCTTGG-1     True\n",
      "                      ...  \n",
      "TTTGTCAGTCATGCAT-8    False\n",
      "TTTGTCATCAGTACGT-8     True\n",
      "TTTGTCATCCACTCCA-8     True\n",
      "TTTGTCATCCCAACGG-8     True\n",
      "TTTGTCATCTGGCGAC-8     True\n",
      "Name: condition_fixed, Length: 91205, dtype: bool\n",
      "Index(['AAACCTGAGGCATGTG-1', 'AAACCTGCACGAAGCA-1', 'AAACCTGCAGCCTTGG-1',\n",
      "       'AAACCTGCATCTCCCA-1', 'AAACCTGGTATAATGG-1', 'AAACCTGGTCTGATTG-1',\n",
      "       'AAACCTGGTTTCCACC-1', 'AAACCTGTCAGGCGAA-1', 'AAACCTGTCCGATATG-1',\n",
      "       'AAACCTGTCCGTAGTA-1',\n",
      "       ...\n",
      "       'TTTGTCACATCGTCGG-8', 'TTTGTCAGTACCTACA-8', 'TTTGTCAGTACGCTGC-8',\n",
      "       'TTTGTCAGTAGCGTGA-8', 'TTTGTCAGTAGGCATG-8', 'TTTGTCAGTCAGAATA-8',\n",
      "       'TTTGTCATCAGTACGT-8', 'TTTGTCATCCACTCCA-8', 'TTTGTCATCCCAACGG-8',\n",
      "       'TTTGTCATCTGGCGAC-8'],\n",
      "      dtype='object', name='cell_barcode', length=55760)\n",
      "AnnData object with n_obs × n_vars = 55760 × 5045\n",
      "    obs: 'condition', 'cell_type', 'dose_val', 'control', 'condition_name', 'condition_fixed'\n",
      "    var: 'gene_name'\n",
      "    uns: 'non_dropout_gene_idx', 'non_zeros_gene_idx', 'rank_genes_groups_cov_all', 'top_non_dropout_de_20', 'top_non_zero_de_20'\n",
      "    layers: 'counts'\n",
      "\n",
      "Unique perturbations: 106\n",
      "Number of samples per condition:\n",
      "condition_fixed\n",
      "ctrl      7353\n",
      "KLF1      1641\n",
      "BAK1      1171\n",
      "CEBPE     1039\n",
      "ETS2      1031\n",
      "          ... \n",
      "NIT1       165\n",
      "CDKN1C     165\n",
      "ZBTB10     145\n",
      "HES7       122\n",
      "PLK4        97\n",
      "Name: count, Length: 106, dtype: int64\n"
     ]
    }
   ],
   "source": [
    "print(filter_mask)\n",
    "print(indexes_to_keep)\n",
    "print(adata_single)\n",
    "\n",
    "print(\"\")\n",
    "print(f\"Unique perturbations: {len(set(adata_single.obs['condition_fixed']))}\")\n",
    "print(\"Number of samples per condition:\")\n",
    "print(adata_single.obs[\"condition_fixed\"].value_counts())"
   ]
  },
  {
   "cell_type": "markdown",
   "metadata": {},
   "source": [
    "**Selecting highest variances**"
   ]
  },
  {
   "cell_type": "code",
   "execution_count": 24,
   "metadata": {},
   "outputs": [
    {
     "name": "stdout",
     "output_type": "stream",
     "text": [
      "Top 128 genes with highest variances:\n",
      "HBZ            : 1.69\n",
      "HIST1H4C       : 1.69\n",
      "HBG2           : 1.15\n",
      "HIST1H1C       : 0.85\n",
      "HBG1           : 0.73\n",
      "NEAT1          : 0.71\n",
      "UBE2S          : 0.62\n",
      "GYPB           : 0.61\n",
      "MALAT1         : 0.58\n",
      "TOP2A          : 0.58\n",
      "VIM            : 0.57\n",
      "HMGB2          : 0.56\n",
      "SH3BGRL3       : 0.55\n",
      "RP11-301G19.1  : 0.53\n",
      "HIST1H2BJ      : 0.52\n",
      "CENPF          : 0.49\n",
      "GAL            : 0.48\n",
      "MT-ND6         : 0.48\n",
      "RP11-717F1.1   : 0.47\n",
      "APOE           : 0.47\n",
      "PTTG1          : 0.47\n",
      "CKS1B          : 0.47\n",
      "CKS2           : 0.46\n",
      "TUBB           : 0.46\n",
      "GYPA           : 0.46\n",
      "KIAA0101       : 0.46\n",
      "S100A11        : 0.45\n",
      "PHF19          : 0.44\n",
      "PSMA4          : 0.44\n",
      "HNRNPH1        : 0.44\n",
      "CACYBP         : 0.43\n",
      "KRT18          : 0.43\n",
      "BTG1           : 0.43\n",
      "LDHA           : 0.43\n",
      "SLC25A37       : 0.42\n",
      "CFD            : 0.42\n",
      "AIF1           : 0.42\n",
      "LGALS1         : 0.41\n",
      "NME1           : 0.41\n",
      "HSPA8          : 0.41\n",
      "BLVRB          : 0.41\n",
      "HN1            : 0.41\n",
      "SRM            : 0.41\n",
      "BIRC5          : 0.41\n",
      "MYL4           : 0.40\n",
      "ODC1           : 0.40\n",
      "CYBA           : 0.40\n",
      "MDK            : 0.40\n",
      "TUBA1C         : 0.40\n",
      "PITX1          : 0.40\n",
      "AC079466.1     : 0.40\n",
      "CKB            : 0.40\n",
      "STMN1          : 0.40\n",
      "PRDX1          : 0.40\n",
      "EMP3           : 0.39\n",
      "PSMB3          : 0.39\n",
      "DDX21          : 0.39\n",
      "PSMB1          : 0.39\n",
      "UFD1L          : 0.39\n",
      "ATF7IP2        : 0.39\n",
      "HSP90B1        : 0.39\n",
      "LMO4           : 0.39\n",
      "PRDX4          : 0.39\n",
      "NUDC           : 0.38\n",
      "HSP90AA1       : 0.38\n",
      "TEX30          : 0.38\n",
      "COMT           : 0.38\n",
      "PRDX2          : 0.38\n",
      "DNAJA1         : 0.38\n",
      "TPX2           : 0.38\n",
      "ARPC3          : 0.37\n",
      "TUBB4B         : 0.37\n",
      "TFRC           : 0.37\n",
      "SNHG9          : 0.37\n",
      "BCYRN1         : 0.37\n",
      "ATF4           : 0.37\n",
      "TESC           : 0.37\n",
      "PYCARD         : 0.37\n",
      "LAPTM5         : 0.37\n",
      "WDR43          : 0.37\n",
      "IFITM2         : 0.37\n",
      "CLIC1          : 0.36\n",
      "LDHB           : 0.36\n",
      "PRSS57         : 0.36\n",
      "LY6E           : 0.36\n",
      "ENO1           : 0.36\n",
      "THUMPD3-AS1    : 0.36\n",
      "ARPC1B         : 0.36\n",
      "MYC            : 0.36\n",
      "UBC            : 0.36\n",
      "POLR2J3        : 0.36\n",
      "SMC4           : 0.36\n",
      "CALM2          : 0.36\n",
      "KCNH2          : 0.35\n",
      "SVIP           : 0.35\n",
      "TMEM54         : 0.35\n",
      "KRT8           : 0.35\n",
      "MEF2C          : 0.35\n",
      "VAMP8          : 0.35\n",
      "LYL1           : 0.35\n",
      "HSPD1          : 0.35\n",
      "CLTA           : 0.35\n",
      "DBI            : 0.35\n",
      "ANXA2          : 0.35\n",
      "MSN            : 0.35\n",
      "PPIB           : 0.35\n",
      "NCL            : 0.35\n",
      "H1FX           : 0.35\n",
      "SMYD3          : 0.35\n",
      "DEK            : 0.35\n",
      "MYL12A         : 0.35\n",
      "TIMP1          : 0.35\n",
      "CALR           : 0.35\n",
      "TMSB10         : 0.35\n",
      "ARGLU1         : 0.35\n",
      "ALAS2          : 0.35\n",
      "MARCKSL1       : 0.35\n",
      "MT2A           : 0.35\n",
      "CCNA2          : 0.35\n",
      "COL18A1        : 0.34\n",
      "PSMB2          : 0.34\n",
      "PTPN7          : 0.34\n",
      "GPSM3          : 0.34\n",
      "ITM2B          : 0.34\n",
      "ANP32E         : 0.34\n",
      "SOCS2          : 0.34\n",
      "SEPP1          : 0.34\n",
      "CMTM6          : 0.34\n"
     ]
    }
   ],
   "source": [
    "# Number of top genes to select.\n",
    "d = 128\n",
    "\n",
    "# Compute the gene variances.\n",
    "gene_variances = adata_single.X.toarray().var(axis=0)  # type: ignore\n",
    "\n",
    "# Sort the gene variances in descending order and get the indexes of the top d genes.\n",
    "sorted_indexes = gene_variances.argsort()[::-1]\n",
    "\n",
    "# Get the indexes of the top d genes.\n",
    "top_gene_indexes = sorted_indexes[:d]\n",
    "\n",
    "# Get the gene names of the top d genes.\n",
    "top_genes = adata_single.var[\"gene_name\"].iloc[top_gene_indexes]\n",
    "\n",
    "# Get the variances of the top d genes.\n",
    "top_variances = gene_variances[top_gene_indexes]\n",
    "\n",
    "# Print the top d genes with the highest variances.\n",
    "print(f\"Top {d} genes with highest variances:\")\n",
    "for gene, variance in zip(top_genes, top_variances):\n",
    "    print(f\"{gene:15}: {variance:.2f}\")\n",
    "    # print(str(gene) + \", \" + str(variance))\n",
    "\n",
    "# Create a new AnnData object with only the top d genes.\n",
    "adata_single_top_genes = adata_single[:, top_gene_indexes].copy()"
   ]
  },
  {
   "cell_type": "markdown",
   "metadata": {},
   "source": [
    "**scRNA-Seq Data Prep**"
   ]
  },
  {
   "cell_type": "code",
   "execution_count": 25,
   "metadata": {},
   "outputs": [],
   "source": [
    "import torch\n",
    "from torch.utils.data import DataLoader, TensorDataset, random_split\n",
    "\n",
    "# Convert the gene expression matrix to a PyTorch tensor.\n",
    "X = torch.tensor(data=adata_single_top_genes.X.toarray(), dtype=torch.float32)  # type: ignore\n",
    "\n",
    "# Create a PyTorch dataset.\n",
    "dataset = TensorDataset(X, X)\n",
    "\n",
    "# Create train and test datasets\n",
    "train_size = int(0.8 * len(dataset))\n",
    "test_size = len(dataset) - train_size\n",
    "train_dataset, test_dataset = random_split(\n",
    "    dataset=dataset, lengths=[train_size, test_size]\n",
    ")\n",
    "\n",
    "# Number of workers.\n",
    "num_workers = 3\n",
    "\n",
    "# Create train and test data loaders.\n",
    "train_loader = DataLoader(\n",
    "    dataset=train_dataset,\n",
    "    batch_size=64,\n",
    "    shuffle=True,\n",
    "    num_workers=num_workers,\n",
    "    persistent_workers=True,\n",
    ")\n",
    "test_loader = DataLoader(\n",
    "    dataset=test_dataset,\n",
    "    batch_size=64,\n",
    "    shuffle=False,\n",
    "    num_workers=num_workers,\n",
    "    persistent_workers=True,\n",
    ")"
   ]
  },
  {
   "cell_type": "markdown",
   "metadata": {},
   "source": [
    "**Create auto-encoder**"
   ]
  },
  {
   "cell_type": "code",
   "execution_count": 26,
   "metadata": {},
   "outputs": [
    {
     "ename": "AttributeError",
     "evalue": "module 'sympy' has no attribute 'printing'",
     "output_type": "error",
     "traceback": [
      "\u001b[1;31m---------------------------------------------------------------------------\u001b[0m",
      "\u001b[1;31mAttributeError\u001b[0m                            Traceback (most recent call last)",
      "Cell \u001b[1;32mIn[26], line 1\u001b[0m\n\u001b[1;32m----> 1\u001b[0m \u001b[38;5;28;01mimport\u001b[39;00m \u001b[38;5;21;01mpytorch_lightning\u001b[39;00m \u001b[38;5;28;01mas\u001b[39;00m \u001b[38;5;21;01mpl\u001b[39;00m\n\u001b[0;32m      2\u001b[0m \u001b[38;5;28;01mfrom\u001b[39;00m \u001b[38;5;21;01mmodels\u001b[39;00m \u001b[38;5;28;01mimport\u001b[39;00m Autoencoder\n\u001b[0;32m      4\u001b[0m \u001b[38;5;66;03m# Get the number of features.\u001b[39;00m\n",
      "File \u001b[1;32mc:\\Users\\Yucel\\Documents\\__WS 24-25\\AMLG\\amlg\\venv\\Lib\\site-packages\\pytorch_lightning\\__init__.py:27\u001b[0m\n\u001b[0;32m     25\u001b[0m \u001b[38;5;28;01mfrom\u001b[39;00m \u001b[38;5;21;01mlightning_fabric\u001b[39;00m\u001b[38;5;21;01m.\u001b[39;00m\u001b[38;5;21;01mutilities\u001b[39;00m\u001b[38;5;21;01m.\u001b[39;00m\u001b[38;5;21;01mseed\u001b[39;00m \u001b[38;5;28;01mimport\u001b[39;00m seed_everything  \u001b[38;5;66;03m# noqa: E402\u001b[39;00m\n\u001b[0;32m     26\u001b[0m \u001b[38;5;28;01mfrom\u001b[39;00m \u001b[38;5;21;01mlightning_fabric\u001b[39;00m\u001b[38;5;21;01m.\u001b[39;00m\u001b[38;5;21;01mutilities\u001b[39;00m\u001b[38;5;21;01m.\u001b[39;00m\u001b[38;5;21;01mwarnings\u001b[39;00m \u001b[38;5;28;01mimport\u001b[39;00m disable_possible_user_warnings  \u001b[38;5;66;03m# noqa: E402\u001b[39;00m\n\u001b[1;32m---> 27\u001b[0m \u001b[38;5;28;01mfrom\u001b[39;00m \u001b[38;5;21;01mpytorch_lightning\u001b[39;00m\u001b[38;5;21;01m.\u001b[39;00m\u001b[38;5;21;01mcallbacks\u001b[39;00m \u001b[38;5;28;01mimport\u001b[39;00m Callback  \u001b[38;5;66;03m# noqa: E402\u001b[39;00m\n\u001b[0;32m     28\u001b[0m \u001b[38;5;28;01mfrom\u001b[39;00m \u001b[38;5;21;01mpytorch_lightning\u001b[39;00m\u001b[38;5;21;01m.\u001b[39;00m\u001b[38;5;21;01mcore\u001b[39;00m \u001b[38;5;28;01mimport\u001b[39;00m LightningDataModule, LightningModule  \u001b[38;5;66;03m# noqa: E402\u001b[39;00m\n\u001b[0;32m     29\u001b[0m \u001b[38;5;28;01mfrom\u001b[39;00m \u001b[38;5;21;01mpytorch_lightning\u001b[39;00m\u001b[38;5;21;01m.\u001b[39;00m\u001b[38;5;21;01mtrainer\u001b[39;00m \u001b[38;5;28;01mimport\u001b[39;00m Trainer  \u001b[38;5;66;03m# noqa: E402\u001b[39;00m\n",
      "File \u001b[1;32mc:\\Users\\Yucel\\Documents\\__WS 24-25\\AMLG\\amlg\\venv\\Lib\\site-packages\\pytorch_lightning\\callbacks\\__init__.py:29\u001b[0m\n\u001b[0;32m     27\u001b[0m \u001b[38;5;28;01mfrom\u001b[39;00m \u001b[38;5;21;01mpytorch_lightning\u001b[39;00m\u001b[38;5;21;01m.\u001b[39;00m\u001b[38;5;21;01mcallbacks\u001b[39;00m\u001b[38;5;21;01m.\u001b[39;00m\u001b[38;5;21;01mprediction_writer\u001b[39;00m \u001b[38;5;28;01mimport\u001b[39;00m BasePredictionWriter\n\u001b[0;32m     28\u001b[0m \u001b[38;5;28;01mfrom\u001b[39;00m \u001b[38;5;21;01mpytorch_lightning\u001b[39;00m\u001b[38;5;21;01m.\u001b[39;00m\u001b[38;5;21;01mcallbacks\u001b[39;00m\u001b[38;5;21;01m.\u001b[39;00m\u001b[38;5;21;01mprogress\u001b[39;00m \u001b[38;5;28;01mimport\u001b[39;00m ProgressBar, RichProgressBar, TQDMProgressBar\n\u001b[1;32m---> 29\u001b[0m \u001b[38;5;28;01mfrom\u001b[39;00m \u001b[38;5;21;01mpytorch_lightning\u001b[39;00m\u001b[38;5;21;01m.\u001b[39;00m\u001b[38;5;21;01mcallbacks\u001b[39;00m\u001b[38;5;21;01m.\u001b[39;00m\u001b[38;5;21;01mpruning\u001b[39;00m \u001b[38;5;28;01mimport\u001b[39;00m ModelPruning\n\u001b[0;32m     30\u001b[0m \u001b[38;5;28;01mfrom\u001b[39;00m \u001b[38;5;21;01mpytorch_lightning\u001b[39;00m\u001b[38;5;21;01m.\u001b[39;00m\u001b[38;5;21;01mcallbacks\u001b[39;00m\u001b[38;5;21;01m.\u001b[39;00m\u001b[38;5;21;01mrich_model_summary\u001b[39;00m \u001b[38;5;28;01mimport\u001b[39;00m RichModelSummary\n\u001b[0;32m     31\u001b[0m \u001b[38;5;28;01mfrom\u001b[39;00m \u001b[38;5;21;01mpytorch_lightning\u001b[39;00m\u001b[38;5;21;01m.\u001b[39;00m\u001b[38;5;21;01mcallbacks\u001b[39;00m\u001b[38;5;21;01m.\u001b[39;00m\u001b[38;5;21;01mspike\u001b[39;00m \u001b[38;5;28;01mimport\u001b[39;00m SpikeDetection\n",
      "File \u001b[1;32mc:\\Users\\Yucel\\Documents\\__WS 24-25\\AMLG\\amlg\\venv\\Lib\\site-packages\\pytorch_lightning\\callbacks\\pruning.py:32\u001b[0m\n\u001b[0;32m     30\u001b[0m \u001b[38;5;28;01mimport\u001b[39;00m \u001b[38;5;21;01mpytorch_lightning\u001b[39;00m \u001b[38;5;28;01mas\u001b[39;00m \u001b[38;5;21;01mpl\u001b[39;00m\n\u001b[0;32m     31\u001b[0m \u001b[38;5;28;01mfrom\u001b[39;00m \u001b[38;5;21;01mpytorch_lightning\u001b[39;00m\u001b[38;5;21;01m.\u001b[39;00m\u001b[38;5;21;01mcallbacks\u001b[39;00m\u001b[38;5;21;01m.\u001b[39;00m\u001b[38;5;21;01mcallback\u001b[39;00m \u001b[38;5;28;01mimport\u001b[39;00m Callback\n\u001b[1;32m---> 32\u001b[0m \u001b[38;5;28;01mfrom\u001b[39;00m \u001b[38;5;21;01mpytorch_lightning\u001b[39;00m\u001b[38;5;21;01m.\u001b[39;00m\u001b[38;5;21;01mcore\u001b[39;00m\u001b[38;5;21;01m.\u001b[39;00m\u001b[38;5;21;01mmodule\u001b[39;00m \u001b[38;5;28;01mimport\u001b[39;00m LightningModule\n\u001b[0;32m     33\u001b[0m \u001b[38;5;28;01mfrom\u001b[39;00m \u001b[38;5;21;01mpytorch_lightning\u001b[39;00m\u001b[38;5;21;01m.\u001b[39;00m\u001b[38;5;21;01mutilities\u001b[39;00m\u001b[38;5;21;01m.\u001b[39;00m\u001b[38;5;21;01mexceptions\u001b[39;00m \u001b[38;5;28;01mimport\u001b[39;00m MisconfigurationException\n\u001b[0;32m     34\u001b[0m \u001b[38;5;28;01mfrom\u001b[39;00m \u001b[38;5;21;01mpytorch_lightning\u001b[39;00m\u001b[38;5;21;01m.\u001b[39;00m\u001b[38;5;21;01mutilities\u001b[39;00m\u001b[38;5;21;01m.\u001b[39;00m\u001b[38;5;21;01mrank_zero\u001b[39;00m \u001b[38;5;28;01mimport\u001b[39;00m rank_zero_debug, rank_zero_only\n",
      "File \u001b[1;32mc:\\Users\\Yucel\\Documents\\__WS 24-25\\AMLG\\amlg\\venv\\Lib\\site-packages\\pytorch_lightning\\core\\__init__.py:16\u001b[0m\n\u001b[0;32m      1\u001b[0m \u001b[38;5;66;03m# Copyright The Lightning AI team.\u001b[39;00m\n\u001b[0;32m      2\u001b[0m \u001b[38;5;66;03m#\u001b[39;00m\n\u001b[0;32m      3\u001b[0m \u001b[38;5;66;03m# Licensed under the Apache License, Version 2.0 (the \"License\");\u001b[39;00m\n\u001b[1;32m   (...)\u001b[0m\n\u001b[0;32m     12\u001b[0m \u001b[38;5;66;03m# See the License for the specific language governing permissions and\u001b[39;00m\n\u001b[0;32m     13\u001b[0m \u001b[38;5;66;03m# limitations under the License.\u001b[39;00m\n\u001b[0;32m     15\u001b[0m \u001b[38;5;28;01mfrom\u001b[39;00m \u001b[38;5;21;01mpytorch_lightning\u001b[39;00m\u001b[38;5;21;01m.\u001b[39;00m\u001b[38;5;21;01mcore\u001b[39;00m\u001b[38;5;21;01m.\u001b[39;00m\u001b[38;5;21;01mdatamodule\u001b[39;00m \u001b[38;5;28;01mimport\u001b[39;00m LightningDataModule\n\u001b[1;32m---> 16\u001b[0m \u001b[38;5;28;01mfrom\u001b[39;00m \u001b[38;5;21;01mpytorch_lightning\u001b[39;00m\u001b[38;5;21;01m.\u001b[39;00m\u001b[38;5;21;01mcore\u001b[39;00m\u001b[38;5;21;01m.\u001b[39;00m\u001b[38;5;21;01mmodule\u001b[39;00m \u001b[38;5;28;01mimport\u001b[39;00m LightningModule\n\u001b[0;32m     18\u001b[0m __all__ \u001b[38;5;241m=\u001b[39m [\u001b[38;5;124m\"\u001b[39m\u001b[38;5;124mLightningDataModule\u001b[39m\u001b[38;5;124m\"\u001b[39m, \u001b[38;5;124m\"\u001b[39m\u001b[38;5;124mLightningModule\u001b[39m\u001b[38;5;124m\"\u001b[39m]\n",
      "File \u001b[1;32mc:\\Users\\Yucel\\Documents\\__WS 24-25\\AMLG\\amlg\\venv\\Lib\\site-packages\\pytorch_lightning\\core\\module.py:48\u001b[0m\n\u001b[0;32m     45\u001b[0m \u001b[38;5;28;01mfrom\u001b[39;00m \u001b[38;5;21;01mtorchmetrics\u001b[39;00m \u001b[38;5;28;01mimport\u001b[39;00m Metric, MetricCollection\n\u001b[0;32m     46\u001b[0m \u001b[38;5;28;01mfrom\u001b[39;00m \u001b[38;5;21;01mtyping_extensions\u001b[39;00m \u001b[38;5;28;01mimport\u001b[39;00m Self, override\n\u001b[1;32m---> 48\u001b[0m \u001b[38;5;28;01mimport\u001b[39;00m \u001b[38;5;21;01mlightning_fabric\u001b[39;00m \u001b[38;5;28;01mas\u001b[39;00m \u001b[38;5;21;01mlf\u001b[39;00m\n\u001b[0;32m     49\u001b[0m \u001b[38;5;28;01mimport\u001b[39;00m \u001b[38;5;21;01mpytorch_lightning\u001b[39;00m \u001b[38;5;28;01mas\u001b[39;00m \u001b[38;5;21;01mpl\u001b[39;00m\n\u001b[0;32m     50\u001b[0m \u001b[38;5;28;01mfrom\u001b[39;00m \u001b[38;5;21;01mlightning_fabric\u001b[39;00m\u001b[38;5;21;01m.\u001b[39;00m\u001b[38;5;21;01mloggers\u001b[39;00m \u001b[38;5;28;01mimport\u001b[39;00m Logger \u001b[38;5;28;01mas\u001b[39;00m FabricLogger\n",
      "File \u001b[1;32mc:\\Users\\Yucel\\Documents\\__WS 24-25\\AMLG\\amlg\\venv\\Lib\\site-packages\\lightning_fabric\\__init__.py:30\u001b[0m\n\u001b[0;32m     24\u001b[0m \u001b[38;5;66;03m# Setting this variable will force `torch.cuda.is_available()` and `torch.cuda.device_count()`\u001b[39;00m\n\u001b[0;32m     25\u001b[0m \u001b[38;5;66;03m# to use an NVML-based implementation that doesn't poison forks.\u001b[39;00m\n\u001b[0;32m     26\u001b[0m \u001b[38;5;66;03m# https://github.com/pytorch/pytorch/issues/83973\u001b[39;00m\n\u001b[0;32m     27\u001b[0m os\u001b[38;5;241m.\u001b[39menviron[\u001b[38;5;124m\"\u001b[39m\u001b[38;5;124mPYTORCH_NVML_BASED_CUDA_CHECK\u001b[39m\u001b[38;5;124m\"\u001b[39m] \u001b[38;5;241m=\u001b[39m \u001b[38;5;124m\"\u001b[39m\u001b[38;5;124m1\u001b[39m\u001b[38;5;124m\"\u001b[39m\n\u001b[1;32m---> 30\u001b[0m \u001b[38;5;28;01mfrom\u001b[39;00m \u001b[38;5;21;01mlightning_fabric\u001b[39;00m\u001b[38;5;21;01m.\u001b[39;00m\u001b[38;5;21;01mfabric\u001b[39;00m \u001b[38;5;28;01mimport\u001b[39;00m Fabric  \u001b[38;5;66;03m# noqa: E402\u001b[39;00m\n\u001b[0;32m     31\u001b[0m \u001b[38;5;28;01mfrom\u001b[39;00m \u001b[38;5;21;01mlightning_fabric\u001b[39;00m\u001b[38;5;21;01m.\u001b[39;00m\u001b[38;5;21;01mutilities\u001b[39;00m\u001b[38;5;21;01m.\u001b[39;00m\u001b[38;5;21;01mseed\u001b[39;00m \u001b[38;5;28;01mimport\u001b[39;00m seed_everything  \u001b[38;5;66;03m# noqa: E402\u001b[39;00m\n\u001b[0;32m     32\u001b[0m \u001b[38;5;28;01mfrom\u001b[39;00m \u001b[38;5;21;01mlightning_fabric\u001b[39;00m\u001b[38;5;21;01m.\u001b[39;00m\u001b[38;5;21;01mutilities\u001b[39;00m\u001b[38;5;21;01m.\u001b[39;00m\u001b[38;5;21;01mwarnings\u001b[39;00m \u001b[38;5;28;01mimport\u001b[39;00m disable_possible_user_warnings  \u001b[38;5;66;03m# noqa: E402\u001b[39;00m\n",
      "File \u001b[1;32mc:\\Users\\Yucel\\Documents\\__WS 24-25\\AMLG\\amlg\\venv\\Lib\\site-packages\\lightning_fabric\\fabric.py:46\u001b[0m\n\u001b[0;32m     44\u001b[0m \u001b[38;5;28;01mfrom\u001b[39;00m \u001b[38;5;21;01mlightning_fabric\u001b[39;00m\u001b[38;5;21;01m.\u001b[39;00m\u001b[38;5;21;01maccelerators\u001b[39;00m\u001b[38;5;21;01m.\u001b[39;00m\u001b[38;5;21;01maccelerator\u001b[39;00m \u001b[38;5;28;01mimport\u001b[39;00m Accelerator\n\u001b[0;32m     45\u001b[0m \u001b[38;5;28;01mfrom\u001b[39;00m \u001b[38;5;21;01mlightning_fabric\u001b[39;00m\u001b[38;5;21;01m.\u001b[39;00m\u001b[38;5;21;01mconnector\u001b[39;00m \u001b[38;5;28;01mimport\u001b[39;00m _PLUGIN_INPUT, _PRECISION_INPUT, _Connector, _is_using_cli\n\u001b[1;32m---> 46\u001b[0m \u001b[38;5;28;01mfrom\u001b[39;00m \u001b[38;5;21;01mlightning_fabric\u001b[39;00m\u001b[38;5;21;01m.\u001b[39;00m\u001b[38;5;21;01mloggers\u001b[39;00m \u001b[38;5;28;01mimport\u001b[39;00m Logger\n\u001b[0;32m     47\u001b[0m \u001b[38;5;28;01mfrom\u001b[39;00m \u001b[38;5;21;01mlightning_fabric\u001b[39;00m\u001b[38;5;21;01m.\u001b[39;00m\u001b[38;5;21;01mplugins\u001b[39;00m \u001b[38;5;28;01mimport\u001b[39;00m Precision  \u001b[38;5;66;03m# avoid circular imports: # isort: split\u001b[39;00m\n\u001b[0;32m     48\u001b[0m \u001b[38;5;28;01mfrom\u001b[39;00m \u001b[38;5;21;01mlightning_fabric\u001b[39;00m\u001b[38;5;21;01m.\u001b[39;00m\u001b[38;5;21;01mstrategies\u001b[39;00m \u001b[38;5;28;01mimport\u001b[39;00m (\n\u001b[0;32m     49\u001b[0m     DataParallelStrategy,\n\u001b[0;32m     50\u001b[0m     DeepSpeedStrategy,\n\u001b[1;32m   (...)\u001b[0m\n\u001b[0;32m     54\u001b[0m     XLAStrategy,\n\u001b[0;32m     55\u001b[0m )\n",
      "File \u001b[1;32mc:\\Users\\Yucel\\Documents\\__WS 24-25\\AMLG\\amlg\\venv\\Lib\\site-packages\\lightning_fabric\\loggers\\__init__.py:15\u001b[0m\n\u001b[0;32m     13\u001b[0m \u001b[38;5;28;01mfrom\u001b[39;00m \u001b[38;5;21;01mlightning_fabric\u001b[39;00m\u001b[38;5;21;01m.\u001b[39;00m\u001b[38;5;21;01mloggers\u001b[39;00m\u001b[38;5;21;01m.\u001b[39;00m\u001b[38;5;21;01mcsv_logs\u001b[39;00m \u001b[38;5;28;01mimport\u001b[39;00m CSVLogger  \u001b[38;5;66;03m# noqa: F401\u001b[39;00m\n\u001b[0;32m     14\u001b[0m \u001b[38;5;28;01mfrom\u001b[39;00m \u001b[38;5;21;01mlightning_fabric\u001b[39;00m\u001b[38;5;21;01m.\u001b[39;00m\u001b[38;5;21;01mloggers\u001b[39;00m\u001b[38;5;21;01m.\u001b[39;00m\u001b[38;5;21;01mlogger\u001b[39;00m \u001b[38;5;28;01mimport\u001b[39;00m Logger  \u001b[38;5;66;03m# noqa: F401\u001b[39;00m\n\u001b[1;32m---> 15\u001b[0m \u001b[38;5;28;01mfrom\u001b[39;00m \u001b[38;5;21;01mlightning_fabric\u001b[39;00m\u001b[38;5;21;01m.\u001b[39;00m\u001b[38;5;21;01mloggers\u001b[39;00m\u001b[38;5;21;01m.\u001b[39;00m\u001b[38;5;21;01mtensorboard\u001b[39;00m \u001b[38;5;28;01mimport\u001b[39;00m TensorBoardLogger  \u001b[38;5;66;03m# noqa: F401\u001b[39;00m\n",
      "File \u001b[1;32mc:\\Users\\Yucel\\Documents\\__WS 24-25\\AMLG\\amlg\\venv\\Lib\\site-packages\\lightning_fabric\\loggers\\tensorboard.py:30\u001b[0m\n\u001b[0;32m     28\u001b[0m \u001b[38;5;28;01mfrom\u001b[39;00m \u001b[38;5;21;01mlightning_fabric\u001b[39;00m\u001b[38;5;21;01m.\u001b[39;00m\u001b[38;5;21;01mutilities\u001b[39;00m\u001b[38;5;21;01m.\u001b[39;00m\u001b[38;5;21;01mrank_zero\u001b[39;00m \u001b[38;5;28;01mimport\u001b[39;00m rank_zero_only, rank_zero_warn\n\u001b[0;32m     29\u001b[0m \u001b[38;5;28;01mfrom\u001b[39;00m \u001b[38;5;21;01mlightning_fabric\u001b[39;00m\u001b[38;5;21;01m.\u001b[39;00m\u001b[38;5;21;01mutilities\u001b[39;00m\u001b[38;5;21;01m.\u001b[39;00m\u001b[38;5;21;01mtypes\u001b[39;00m \u001b[38;5;28;01mimport\u001b[39;00m _PATH\n\u001b[1;32m---> 30\u001b[0m \u001b[38;5;28;01mfrom\u001b[39;00m \u001b[38;5;21;01mlightning_fabric\u001b[39;00m\u001b[38;5;21;01m.\u001b[39;00m\u001b[38;5;21;01mwrappers\u001b[39;00m \u001b[38;5;28;01mimport\u001b[39;00m _unwrap_objects\n\u001b[0;32m     32\u001b[0m _TENSORBOARD_AVAILABLE \u001b[38;5;241m=\u001b[39m RequirementCache(\u001b[38;5;124m\"\u001b[39m\u001b[38;5;124mtensorboard\u001b[39m\u001b[38;5;124m\"\u001b[39m)\n\u001b[0;32m     33\u001b[0m _TENSORBOARDX_AVAILABLE \u001b[38;5;241m=\u001b[39m RequirementCache(\u001b[38;5;124m\"\u001b[39m\u001b[38;5;124mtensorboardX\u001b[39m\u001b[38;5;124m\"\u001b[39m)\n",
      "File \u001b[1;32mc:\\Users\\Yucel\\Documents\\__WS 24-25\\AMLG\\amlg\\venv\\Lib\\site-packages\\lightning_fabric\\wrappers.py:38\u001b[0m\n\u001b[0;32m     36\u001b[0m \u001b[38;5;28;01mfrom\u001b[39;00m \u001b[38;5;21;01mtorch\u001b[39;00m \u001b[38;5;28;01mimport\u001b[39;00m Tensor\n\u001b[0;32m     37\u001b[0m \u001b[38;5;28;01mfrom\u001b[39;00m \u001b[38;5;21;01mtorch\u001b[39;00m \u001b[38;5;28;01mimport\u001b[39;00m nn \u001b[38;5;28;01mas\u001b[39;00m nn\n\u001b[1;32m---> 38\u001b[0m \u001b[38;5;28;01mfrom\u001b[39;00m \u001b[38;5;21;01mtorch\u001b[39;00m\u001b[38;5;21;01m.\u001b[39;00m\u001b[38;5;21;01m_dynamo\u001b[39;00m \u001b[38;5;28;01mimport\u001b[39;00m OptimizedModule\n\u001b[0;32m     39\u001b[0m \u001b[38;5;28;01mfrom\u001b[39;00m \u001b[38;5;21;01mtorch\u001b[39;00m\u001b[38;5;21;01m.\u001b[39;00m\u001b[38;5;21;01mnn\u001b[39;00m\u001b[38;5;21;01m.\u001b[39;00m\u001b[38;5;21;01mmodules\u001b[39;00m\u001b[38;5;21;01m.\u001b[39;00m\u001b[38;5;21;01mmodule\u001b[39;00m \u001b[38;5;28;01mimport\u001b[39;00m _IncompatibleKeys\n\u001b[0;32m     40\u001b[0m \u001b[38;5;28;01mfrom\u001b[39;00m \u001b[38;5;21;01mtorch\u001b[39;00m\u001b[38;5;21;01m.\u001b[39;00m\u001b[38;5;21;01moptim\u001b[39;00m \u001b[38;5;28;01mimport\u001b[39;00m Optimizer\n",
      "File \u001b[1;32mc:\\Users\\Yucel\\Documents\\__WS 24-25\\AMLG\\amlg\\venv\\Lib\\site-packages\\torch\\_dynamo\\__init__.py:3\u001b[0m\n\u001b[0;32m      1\u001b[0m \u001b[38;5;28;01mimport\u001b[39;00m \u001b[38;5;21;01mtorch\u001b[39;00m\n\u001b[1;32m----> 3\u001b[0m \u001b[38;5;28;01mfrom\u001b[39;00m \u001b[38;5;21;01m.\u001b[39;00m \u001b[38;5;28;01mimport\u001b[39;00m convert_frame, eval_frame, resume_execution\n\u001b[0;32m      4\u001b[0m \u001b[38;5;28;01mfrom\u001b[39;00m \u001b[38;5;21;01m.\u001b[39;00m\u001b[38;5;21;01mbackends\u001b[39;00m\u001b[38;5;21;01m.\u001b[39;00m\u001b[38;5;21;01mregistry\u001b[39;00m \u001b[38;5;28;01mimport\u001b[39;00m list_backends, lookup_backend, register_backend\n\u001b[0;32m      5\u001b[0m \u001b[38;5;28;01mfrom\u001b[39;00m \u001b[38;5;21;01m.\u001b[39;00m\u001b[38;5;21;01mcallback\u001b[39;00m \u001b[38;5;28;01mimport\u001b[39;00m callback_handler, on_compile_end, on_compile_start\n",
      "File \u001b[1;32mc:\\Users\\Yucel\\Documents\\__WS 24-25\\AMLG\\amlg\\venv\\Lib\\site-packages\\torch\\_dynamo\\convert_frame.py:31\u001b[0m\n\u001b[0;32m     29\u001b[0m \u001b[38;5;28;01mfrom\u001b[39;00m \u001b[38;5;21;01mtorch\u001b[39;00m\u001b[38;5;21;01m.\u001b[39;00m\u001b[38;5;21;01m_C\u001b[39;00m\u001b[38;5;21;01m.\u001b[39;00m\u001b[38;5;21;01m_dynamo\u001b[39;00m\u001b[38;5;21;01m.\u001b[39;00m\u001b[38;5;21;01mguards\u001b[39;00m \u001b[38;5;28;01mimport\u001b[39;00m GlobalStateGuard\n\u001b[0;32m     30\u001b[0m \u001b[38;5;28;01mfrom\u001b[39;00m \u001b[38;5;21;01mtorch\u001b[39;00m\u001b[38;5;21;01m.\u001b[39;00m\u001b[38;5;21;01m_dynamo\u001b[39;00m\u001b[38;5;21;01m.\u001b[39;00m\u001b[38;5;21;01mdistributed\u001b[39;00m \u001b[38;5;28;01mimport\u001b[39;00m get_compile_pg\n\u001b[1;32m---> 31\u001b[0m \u001b[38;5;28;01mfrom\u001b[39;00m \u001b[38;5;21;01mtorch\u001b[39;00m\u001b[38;5;21;01m.\u001b[39;00m\u001b[38;5;21;01m_dynamo\u001b[39;00m\u001b[38;5;21;01m.\u001b[39;00m\u001b[38;5;21;01mutils\u001b[39;00m \u001b[38;5;28;01mimport\u001b[39;00m CompileTimeInstructionCounter\n\u001b[0;32m     32\u001b[0m \u001b[38;5;28;01mfrom\u001b[39;00m \u001b[38;5;21;01mtorch\u001b[39;00m\u001b[38;5;21;01m.\u001b[39;00m\u001b[38;5;21;01m_guards\u001b[39;00m \u001b[38;5;28;01mimport\u001b[39;00m compile_context, CompileContext, CompileId, tracing\n\u001b[0;32m     33\u001b[0m \u001b[38;5;28;01mfrom\u001b[39;00m \u001b[38;5;21;01mtorch\u001b[39;00m\u001b[38;5;21;01m.\u001b[39;00m\u001b[38;5;21;01m_logging\u001b[39;00m \u001b[38;5;28;01mimport\u001b[39;00m structured\n",
      "File \u001b[1;32mc:\\Users\\Yucel\\Documents\\__WS 24-25\\AMLG\\amlg\\venv\\Lib\\site-packages\\torch\\_dynamo\\utils.py:62\u001b[0m\n\u001b[0;32m     60\u001b[0m \u001b[38;5;28;01mimport\u001b[39;00m \u001b[38;5;21;01mtorch\u001b[39;00m\u001b[38;5;21;01m.\u001b[39;00m\u001b[38;5;21;01m_functorch\u001b[39;00m\u001b[38;5;21;01m.\u001b[39;00m\u001b[38;5;21;01mconfig\u001b[39;00m\n\u001b[0;32m     61\u001b[0m \u001b[38;5;28;01mimport\u001b[39;00m \u001b[38;5;21;01mtorch\u001b[39;00m\u001b[38;5;21;01m.\u001b[39;00m\u001b[38;5;21;01m_inductor\u001b[39;00m\u001b[38;5;21;01m.\u001b[39;00m\u001b[38;5;21;01mconfig\u001b[39;00m \u001b[38;5;28;01mas\u001b[39;00m \u001b[38;5;21;01minductor_config\u001b[39;00m\n\u001b[1;32m---> 62\u001b[0m \u001b[38;5;28;01mimport\u001b[39;00m \u001b[38;5;21;01mtorch\u001b[39;00m\u001b[38;5;21;01m.\u001b[39;00m\u001b[38;5;21;01mfx\u001b[39;00m\u001b[38;5;21;01m.\u001b[39;00m\u001b[38;5;21;01mexperimental\u001b[39;00m\u001b[38;5;21;01m.\u001b[39;00m\u001b[38;5;21;01msymbolic_shapes\u001b[39;00m\n\u001b[0;32m     63\u001b[0m \u001b[38;5;28;01mimport\u001b[39;00m \u001b[38;5;21;01mtorch\u001b[39;00m\u001b[38;5;21;01m.\u001b[39;00m\u001b[38;5;21;01mutils\u001b[39;00m\u001b[38;5;21;01m.\u001b[39;00m\u001b[38;5;21;01m_pytree\u001b[39;00m \u001b[38;5;28;01mas\u001b[39;00m \u001b[38;5;21;01mpytree\u001b[39;00m\n\u001b[0;32m     64\u001b[0m \u001b[38;5;28;01mfrom\u001b[39;00m \u001b[38;5;21;01mtorch\u001b[39;00m \u001b[38;5;28;01mimport\u001b[39;00m fx\n",
      "File \u001b[1;32mc:\\Users\\Yucel\\Documents\\__WS 24-25\\AMLG\\amlg\\venv\\Lib\\site-packages\\torch\\fx\\experimental\\symbolic_shapes.py:5528\u001b[0m\n\u001b[0;32m   5521\u001b[0m     msg \u001b[38;5;241m+\u001b[39m\u001b[38;5;241m=\u001b[39m (\n\u001b[0;32m   5522\u001b[0m         \u001b[38;5;124m'\u001b[39m\u001b[38;5;130;01m\\n\u001b[39;00m\u001b[38;5;130;01m\\n\u001b[39;00m\u001b[38;5;124mThe following call raised this error:\u001b[39m\u001b[38;5;130;01m\\n\u001b[39;00m\u001b[38;5;124m'\u001b[39m \u001b[38;5;241m+\u001b[39m\n\u001b[0;32m   5523\u001b[0m         \u001b[38;5;124m'\u001b[39m\u001b[38;5;124m'\u001b[39m\u001b[38;5;241m.\u001b[39mjoin(traceback\u001b[38;5;241m.\u001b[39mStackSummary\u001b[38;5;241m.\u001b[39mfrom_list([frame_summary])\u001b[38;5;241m.\u001b[39mformat())\n\u001b[0;32m   5524\u001b[0m     )\n\u001b[0;32m   5525\u001b[0m     e\u001b[38;5;241m.\u001b[39margs \u001b[38;5;241m=\u001b[39m (msg,)\n\u001b[1;32m-> 5528\u001b[0m \u001b[38;5;28;01mclass\u001b[39;00m \u001b[38;5;21;01m_PythonPrinter\u001b[39;00m(\u001b[43msympy\u001b[49m\u001b[38;5;241;43m.\u001b[39;49m\u001b[43mprinting\u001b[49m\u001b[38;5;241m.\u001b[39mstr\u001b[38;5;241m.\u001b[39mStrPrinter):\n\u001b[0;32m   5529\u001b[0m \u001b[38;5;250m    \u001b[39m\u001b[38;5;124;03m\"\"\"\u001b[39;00m\n\u001b[0;32m   5530\u001b[0m \u001b[38;5;124;03m    Util printer that replaces sympy symbols with their source-level names\u001b[39;00m\n\u001b[0;32m   5531\u001b[0m \u001b[38;5;124;03m    and renders sympy relational operators (e.g., Eq, Ne, Ge, Le) inline\u001b[39;00m\n\u001b[0;32m   5532\u001b[0m \u001b[38;5;124;03m    (i.e., as ==, !=, >, <).\u001b[39;00m\n\u001b[0;32m   5533\u001b[0m \u001b[38;5;124;03m    \"\"\"\u001b[39;00m\n\u001b[0;32m   5535\u001b[0m     \u001b[38;5;28;01mdef\u001b[39;00m \u001b[38;5;21m__init__\u001b[39m(\u001b[38;5;28mself\u001b[39m, src_map):\n",
      "\u001b[1;31mAttributeError\u001b[0m: module 'sympy' has no attribute 'printing'"
     ]
    }
   ],
   "source": [
    "import pytorch_lightning as pl\n",
    "from models import Autoencoder\n",
    "\n",
    "# Get the number of features.\n",
    "n_features = X.shape[1]\n",
    "print(f\"n_features={n_features}\")\n",
    "\n",
    "# Get the number of samples.\n",
    "n_samples = X.shape[0]  # = len(train_dataset) + len(test_dataset) = len(dataset)\n",
    "print(f\"n_samples={n_samples}\")\n",
    "\n",
    "# Create the autoencoder\n",
    "autoencoder = Autoencoder(in_features=n_features)"
   ]
  },
  {
   "cell_type": "markdown",
   "metadata": {},
   "source": [
    "**Train auto-encoder**"
   ]
  },
  {
   "cell_type": "code",
   "execution_count": 13,
   "metadata": {},
   "outputs": [
    {
     "name": "stderr",
     "output_type": "stream",
     "text": [
      "GPU available: False, used: False\n",
      "TPU available: False, using: 0 TPU cores\n",
      "HPU available: False, using: 0 HPUs\n",
      "\n",
      "  | Name    | Type    | Params | Mode \n",
      "--------------------------------------------\n",
      "0 | encoder | Encoder | 12.4 K | train\n",
      "1 | decoder | Decoder | 12.5 K | train\n",
      "2 | loss_fn | MSELoss | 0      | train\n",
      "--------------------------------------------\n",
      "24.9 K    Trainable params\n",
      "0         Non-trainable params\n",
      "24.9 K    Total params\n",
      "0.100     Total estimated model params size (MB)\n",
      "11        Modules in train mode\n",
      "0         Modules in eval mode\n"
     ]
    },
    {
     "name": "stdout",
     "output_type": "stream",
     "text": [
      "Epoch 3: 100%|██████████| 697/697 [00:19<00:00, 35.26it/s, v_num=1, batch_idx=696.0, train_loss=0.189]"
     ]
    },
    {
     "name": "stderr",
     "output_type": "stream",
     "text": [
      "`Trainer.fit` stopped: `max_epochs=4` reached.\n"
     ]
    },
    {
     "name": "stdout",
     "output_type": "stream",
     "text": [
      "Epoch 3: 100%|██████████| 697/697 [00:19<00:00, 35.08it/s, v_num=1, batch_idx=696.0, train_loss=0.189]\n"
     ]
    }
   ],
   "source": [
    "from pytorch_lightning.loggers import CSVLogger\n",
    "\n",
    "# Initialize the CSV logger.\n",
    "logger = CSVLogger(save_dir=\"lightning_logs\", name=\"ae_experiment\")\n",
    "\n",
    "# Train the autoencoder.\n",
    "trainer = pl.Trainer(max_epochs=4, logger=logger)\n",
    "trainer.fit(model=autoencoder, train_dataloaders=train_loader)"
   ]
  },
  {
   "cell_type": "code",
   "execution_count": 14,
   "metadata": {},
   "outputs": [
    {
     "name": "stdout",
     "output_type": "stream",
     "text": [
      "Testing DataLoader 0: 100%|██████████| 175/175 [00:01<00:00, 87.64it/s]\n",
      "────────────────────────────────────────────────────────────────────────────────────────────────────────────────────────\n",
      "       Test metric             DataLoader 0\n",
      "────────────────────────────────────────────────────────────────────────────────────────────────────────────────────────\n",
      "        test_loss           0.19969652593135834\n",
      "────────────────────────────────────────────────────────────────────────────────────────────────────────────────────────\n"
     ]
    },
    {
     "data": {
      "text/plain": [
       "[{'test_loss': 0.19969652593135834}]"
      ]
     },
     "execution_count": 14,
     "metadata": {},
     "output_type": "execute_result"
    }
   ],
   "source": [
    "# Test the autoencoder.\n",
    "trainer.test(model=autoencoder, dataloaders=test_loader)"
   ]
  },
  {
   "cell_type": "code",
   "execution_count": 15,
   "metadata": {},
   "outputs": [
    {
     "name": "stdout",
     "output_type": "stream",
     "text": [
      "logfile=lightning_logs\\ae_experiment\\version_1\\metrics.csv\n"
     ]
    },
    {
     "data": {
      "image/png": "[encoded data removed]",
      "text/plain": [
       "<Figure size 640x480 with 1 Axes>"
      ]
     },
     "metadata": {},
     "output_type": "display_data"
    }
   ],
   "source": [
    "import os\n",
    "\n",
    "import matplotlib.pyplot as plt\n",
    "import pandas as pd\n",
    "\n",
    "\n",
    "def plot_train_loss(logfile: str) -> None:\n",
    "    \"\"\"Plot the training loss from a PyTorch Lightning log file.\"\"\"\n",
    "    print(f\"logfile={logfile}\")\n",
    "    log = pd.read_csv(filepath_or_buffer=logfile)\n",
    "    plt.plot(log[\"step\"], log[\"train_loss\"])\n",
    "    plt.xlabel(\"Step\")\n",
    "    plt.ylabel(\"Train Loss\")\n",
    "    plt.show()\n",
    "\n",
    "\n",
    "# Construct the path to the most recent version directory.\n",
    "most_recent_metrics_file = os.path.join(\n",
    "    logger.save_dir, logger.name, f\"version_{logger.version}\", \"metrics.csv\"\n",
    ")\n",
    "\n",
    "# Plot the training loss.\n",
    "plot_train_loss(logfile=most_recent_metrics_file)"
   ]
  },
  {
   "cell_type": "code",
   "execution_count": 6,
   "metadata": {},
   "outputs": [
    {
     "ename": "NameError",
     "evalue": "name 'dataset' is not defined",
     "output_type": "error",
     "traceback": [
      "\u001b[1;31m---------------------------------------------------------------------------\u001b[0m",
      "\u001b[1;31mNameError\u001b[0m                                 Traceback (most recent call last)",
      "Cell \u001b[1;32mIn[6], line 3\u001b[0m\n\u001b[0;32m      1\u001b[0m \u001b[38;5;66;03m# Apply UMAP for dimensionality reduction\u001b[39;00m\n\u001b[0;32m      2\u001b[0m reducer \u001b[38;5;241m=\u001b[39m umap\u001b[38;5;241m.\u001b[39mUMAP(n_neighbors\u001b[38;5;241m=\u001b[39m\u001b[38;5;241m15\u001b[39m, min_dist\u001b[38;5;241m=\u001b[39m\u001b[38;5;241m0.1\u001b[39m, n_components\u001b[38;5;241m=\u001b[39m\u001b[38;5;241m2\u001b[39m, random_state\u001b[38;5;241m=\u001b[39m\u001b[38;5;241m42\u001b[39m)\n\u001b[1;32m----> 3\u001b[0m embedding \u001b[38;5;241m=\u001b[39m reducer\u001b[38;5;241m.\u001b[39mfit_transform(\u001b[43mdataset\u001b[49m)\n\u001b[0;32m      5\u001b[0m \u001b[38;5;66;03m# Check the shape of the reduced data\u001b[39;00m\n\u001b[0;32m      6\u001b[0m \u001b[38;5;28mprint\u001b[39m(\u001b[38;5;124mf\u001b[39m\u001b[38;5;124m\"\u001b[39m\u001b[38;5;124mUMAP embedding shape: \u001b[39m\u001b[38;5;132;01m{\u001b[39;00membedding\u001b[38;5;241m.\u001b[39mshape\u001b[38;5;132;01m}\u001b[39;00m\u001b[38;5;124m\"\u001b[39m)\n",
      "\u001b[1;31mNameError\u001b[0m: name 'dataset' is not defined"
     ]
    }
   ],
   "source": [
    "# Apply UMAP for dimensionality reduction\n",
    "reducer = umap.UMAP(n_neighbors=15, min_dist=0.1, n_components=2, random_state=42)\n",
    "embedding = reducer.fit_transform(dataset)\n",
    "\n",
    "# Check the shape of the reduced data\n",
    "print(f\"UMAP embedding shape: {embedding.shape}\")"
   ]
  },
  {
   "cell_type": "code",
   "execution_count": null,
   "metadata": {},
   "outputs": [],
   "source": [
    "# Visualize UMAP output\n",
    "plt.figure(figsize=(10, 8))\n",
    "sns.scatterplot(x=embedding[:, 0], y=embedding[:, 1], hue=labels, palette='viridis', s=50)\n",
    "plt.title('UMAP Projection of the Dataset')\n",
    "plt.xlabel('UMAP 1')\n",
    "plt.ylabel('UMAP 2')\n",
    "plt.legend(title='Labels', loc='best')\n",
    "plt.show()"
   ]
  },
  {
   "cell_type": "markdown",
   "metadata": {},
   "source": [
    "Choose one of the following tasks:\n",
    "\n",
    "**Exploratory Data Analysis and Visualization**\n",
    "\n",
    "- Objective: Explore the dataset to identify patterns and clusters.\n",
    "- Tasks:\n",
    "  - Perform dimensionality reduction using PCA, t-SNE, or UMAP.\n",
    "  - Visualize gene expression profiles across different conditions or perturbations.\n",
    "  - Create heatmaps of the top differentially expressed genes.\n",
    "- Learning Outcomes:\n",
    "  - Learn to visualize high-dimensional data.\n",
    "  - Interpret clusters and patterns in the context of biological conditions.\n",
    "\n",
    "**Machine Learning Classification**\n",
    "\n",
    "- Objective: Build models to classify samples based on gene expression profiles.\n",
    "- Tasks:\n",
    "  - Split the dataset into training and testing sets.\n",
    "  - Implement classification algorithms.\n",
    "  - Evaluate model performance using metrics like accuracy, precision, recall, and ROC curves.\n",
    "- Learning Outcomes:\n",
    "  - Understand supervised learning techniques.\n",
    "  - Learn model evaluation and validation strategies.\n",
    "\n",
    "**Advanced Deep Learning Applications**\n",
    "\n",
    "- Objective: Apply deep learning techniques to model complex patterns in the data.\n",
    "- Tasks:\n",
    "  - Implement autoencoders or variational autoencoders for dimensionality reduction.\n",
    "  - Explore the use of GANs to generate synthetic gene expression data.\n",
    "  - Analyze how deep learning models capture nonlinear relationships.\n",
    "- Learning Outcomes:\n",
    "  - Gain experience with deep learning frameworks.\n",
    "  - Understand the applications of deep learning in genomics."
   ]
  }
 ],
 "metadata": {
  "kernelspec": {
   "display_name": "venv",
   "language": "python",
   "name": "python3"
  },
  "language_info": {
   "codemirror_mode": {
    "name": "ipython",
    "version": 3
   },
   "file_extension": ".py",
   "mimetype": "text/x-python",
   "name": "python",
   "nbconvert_exporter": "python",
   "pygments_lexer": "ipython3",
   "version": "3.12.3"
  }
 },
 "nbformat": 4,
 "nbformat_minor": 2
}
